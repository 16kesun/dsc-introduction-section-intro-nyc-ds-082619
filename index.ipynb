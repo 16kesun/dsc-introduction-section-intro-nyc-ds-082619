{
 "cells": [
  {
   "cell_type": "markdown",
   "metadata": {},
   "source": [
    "# Introduction - Getting Started with Data Science \n",
    "<img src =\"ds.png\" width = 250>\n",
    "\n",
    "### SWBATs\n",
    "* Understand and explain what is covered in this section\n",
    "* Understand and explain why the section will help them to become a data scientist\n",
    "\n"
   ]
  },
  {
   "cell_type": "markdown",
   "metadata": {},
   "source": [
    "### Setting the Stage\n",
    "\n",
    "\n",
    "The first section of data science course has been designed to provide you with a hands-on introduction to the analytical programming skills in a professional python driven data science development environment.  \n",
    "\n",
    "<img src=\"https://upload.wikimedia.org/wikipedia/en/c/cd/Anaconda_Logo.png\" width=300>\n",
    "\n",
    "The section starts with a bunch of documents for you to read. These will help you understand and fulfill some technical pre-requisites before you take a dive into python coding. We shall look at some examples of analytical business problems that data science practices are used to solve. You will also get a quick, yet insightful introduction to **The Data Science Process** which may help you answer some basic questions around *what is involved in data science* or *Do I need machine learning to be a good data scientist?* etc.\n",
    "\n",
    "### Bring in the Python \n",
    "\n",
    "After getting the anaconda development environment in place, you will be provided with an introduction to python programming. You will learn how to declare and use variables to store data, along with some practice using a number of commonly used data types including string, numbers, boolean. Python offers a number of data types with a number of built in functions and these will be introduced throughout this section. \n",
    "\n",
    "<img src=\"https://python.rs/pylogo.png\" width=350>\n",
    "\n",
    "Following this, a number of lessons and labs will provide you with a hands on introduction to fundamental programming constructs including sequences, iteration (a.k.a looping), conditional (a.k.a if-else statements). You will learn basics of data processing using taught data handling methods inside these constructs. For data with multiple values, collections will be introduced at this stage. You will to create lists and dictionaries to store multi-valued data items and process the data iteratively. Being able to process vectors (as lists) and key:value pairs of data (as dictionaries) will provide a solid foundation to later understand and use `Numpy` and `Pandas` which are professional analytical libraries in python.  \n",
    "\n",
    "### Visualize that data\n",
    "\n",
    "The final section of documents will introduce to basics of data visualization and visual analytics practices with the `MatPlotLib` module that comes packed in the anaconda environment. \n",
    "\n",
    "<img src=\"https://matplotlib.org/_static/logo2.png\" width=350>\n",
    "\n",
    "\n",
    "You will learn to plot some basic visualizations for simple datasets. These will include plotting bar graphs, histograms and scatter plots and adding axes labeling and title information to the plot. The skills required to plot some basic visualizations from a given dataset, and setting up some initial assumptions on the visualizations is usually first step in your analysis journey.\n",
    "\n",
    "The section will conclude with an interesting project that would involve bringing together all the skills presented in section 1, towards a basic analysis of Shakespeare's classic play: Macbeth. \n",
    "\n",
    "<img src=\"https://s3.pixers.pics/pixers/700/FO/51/62/73/20/700_FO51627320_38b000ce4e7073b9a223a545e94df174.jpg\" width=500>\n",
    "\n",
    "\n",
    "Best of luck with your journey towards becoming a data science superstar."
   ]
  },
  {
   "cell_type": "code",
   "execution_count": null,
   "metadata": {},
   "outputs": [],
   "source": []
  }
 ],
 "metadata": {
  "kernelspec": {
   "display_name": "Python 3",
   "language": "python",
   "name": "python3"
  },
  "language_info": {
   "codemirror_mode": {
    "name": "ipython",
    "version": 3
   },
   "file_extension": ".py",
   "mimetype": "text/x-python",
   "name": "python",
   "nbconvert_exporter": "python",
   "pygments_lexer": "ipython3",
   "version": "3.6.4"
  }
 },
 "nbformat": 4,
 "nbformat_minor": 2
}
